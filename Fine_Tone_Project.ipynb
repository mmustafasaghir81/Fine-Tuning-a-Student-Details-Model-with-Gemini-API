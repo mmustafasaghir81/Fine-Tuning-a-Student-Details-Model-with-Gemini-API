{
  "nbformat": 4,
  "nbformat_minor": 0,
  "metadata": {
    "colab": {
      "provenance": []
    },
    "kernelspec": {
      "name": "python3",
      "display_name": "Python 3"
    },
    "language_info": {
      "name": "python"
    },
    "widgets": {
      "application/vnd.jupyter.widget-state+json": {
        "17d84105cd4e4af6af0ff7ecd55b6230": {
          "model_module": "@jupyter-widgets/controls",
          "model_name": "HBoxModel",
          "model_module_version": "1.5.0",
          "state": {
            "_dom_classes": [],
            "_model_module": "@jupyter-widgets/controls",
            "_model_module_version": "1.5.0",
            "_model_name": "HBoxModel",
            "_view_count": null,
            "_view_module": "@jupyter-widgets/controls",
            "_view_module_version": "1.5.0",
            "_view_name": "HBoxView",
            "box_style": "",
            "children": [
              "IPY_MODEL_ac1e7b3b69574e9681d9ffe628060866",
              "IPY_MODEL_ba47d314852c42589f458eb4e61c9586",
              "IPY_MODEL_3dc62e44ca934539a091b05c23d2ea88"
            ],
            "layout": "IPY_MODEL_26923d5cd9894e118fce96f237595d4d"
          }
        },
        "ac1e7b3b69574e9681d9ffe628060866": {
          "model_module": "@jupyter-widgets/controls",
          "model_name": "HTMLModel",
          "model_module_version": "1.5.0",
          "state": {
            "_dom_classes": [],
            "_model_module": "@jupyter-widgets/controls",
            "_model_module_version": "1.5.0",
            "_model_name": "HTMLModel",
            "_view_count": null,
            "_view_module": "@jupyter-widgets/controls",
            "_view_module_version": "1.5.0",
            "_view_name": "HTMLView",
            "description": "",
            "description_tooltip": null,
            "layout": "IPY_MODEL_4affff7226524e44ba3d6d1f4a19d6d0",
            "placeholder": "​",
            "style": "IPY_MODEL_e4833953a268461a93a0409d62d00b98",
            "value": "100%"
          }
        },
        "ba47d314852c42589f458eb4e61c9586": {
          "model_module": "@jupyter-widgets/controls",
          "model_name": "FloatProgressModel",
          "model_module_version": "1.5.0",
          "state": {
            "_dom_classes": [],
            "_model_module": "@jupyter-widgets/controls",
            "_model_module_version": "1.5.0",
            "_model_name": "FloatProgressModel",
            "_view_count": null,
            "_view_module": "@jupyter-widgets/controls",
            "_view_module_version": "1.5.0",
            "_view_name": "ProgressView",
            "bar_style": "success",
            "description": "",
            "description_tooltip": null,
            "layout": "IPY_MODEL_5c39891908ad4c3c908c7456945fcc89",
            "max": 125,
            "min": 0,
            "orientation": "horizontal",
            "style": "IPY_MODEL_f6d802c007894330a72de62029f0b40a",
            "value": 125
          }
        },
        "3dc62e44ca934539a091b05c23d2ea88": {
          "model_module": "@jupyter-widgets/controls",
          "model_name": "HTMLModel",
          "model_module_version": "1.5.0",
          "state": {
            "_dom_classes": [],
            "_model_module": "@jupyter-widgets/controls",
            "_model_module_version": "1.5.0",
            "_model_name": "HTMLModel",
            "_view_count": null,
            "_view_module": "@jupyter-widgets/controls",
            "_view_module_version": "1.5.0",
            "_view_name": "HTMLView",
            "description": "",
            "description_tooltip": null,
            "layout": "IPY_MODEL_6e0b59cf2f1c4425a4a236c2ea22f6ca",
            "placeholder": "​",
            "style": "IPY_MODEL_af652bad87c34344a4015c04556a41a4",
            "value": " 125/125 [06:56&lt;00:00,  2.92s/it]"
          }
        },
        "26923d5cd9894e118fce96f237595d4d": {
          "model_module": "@jupyter-widgets/base",
          "model_name": "LayoutModel",
          "model_module_version": "1.2.0",
          "state": {
            "_model_module": "@jupyter-widgets/base",
            "_model_module_version": "1.2.0",
            "_model_name": "LayoutModel",
            "_view_count": null,
            "_view_module": "@jupyter-widgets/base",
            "_view_module_version": "1.2.0",
            "_view_name": "LayoutView",
            "align_content": null,
            "align_items": null,
            "align_self": null,
            "border": null,
            "bottom": null,
            "display": null,
            "flex": null,
            "flex_flow": null,
            "grid_area": null,
            "grid_auto_columns": null,
            "grid_auto_flow": null,
            "grid_auto_rows": null,
            "grid_column": null,
            "grid_gap": null,
            "grid_row": null,
            "grid_template_areas": null,
            "grid_template_columns": null,
            "grid_template_rows": null,
            "height": null,
            "justify_content": null,
            "justify_items": null,
            "left": null,
            "margin": null,
            "max_height": null,
            "max_width": null,
            "min_height": null,
            "min_width": null,
            "object_fit": null,
            "object_position": null,
            "order": null,
            "overflow": null,
            "overflow_x": null,
            "overflow_y": null,
            "padding": null,
            "right": null,
            "top": null,
            "visibility": null,
            "width": null
          }
        },
        "4affff7226524e44ba3d6d1f4a19d6d0": {
          "model_module": "@jupyter-widgets/base",
          "model_name": "LayoutModel",
          "model_module_version": "1.2.0",
          "state": {
            "_model_module": "@jupyter-widgets/base",
            "_model_module_version": "1.2.0",
            "_model_name": "LayoutModel",
            "_view_count": null,
            "_view_module": "@jupyter-widgets/base",
            "_view_module_version": "1.2.0",
            "_view_name": "LayoutView",
            "align_content": null,
            "align_items": null,
            "align_self": null,
            "border": null,
            "bottom": null,
            "display": null,
            "flex": null,
            "flex_flow": null,
            "grid_area": null,
            "grid_auto_columns": null,
            "grid_auto_flow": null,
            "grid_auto_rows": null,
            "grid_column": null,
            "grid_gap": null,
            "grid_row": null,
            "grid_template_areas": null,
            "grid_template_columns": null,
            "grid_template_rows": null,
            "height": null,
            "justify_content": null,
            "justify_items": null,
            "left": null,
            "margin": null,
            "max_height": null,
            "max_width": null,
            "min_height": null,
            "min_width": null,
            "object_fit": null,
            "object_position": null,
            "order": null,
            "overflow": null,
            "overflow_x": null,
            "overflow_y": null,
            "padding": null,
            "right": null,
            "top": null,
            "visibility": null,
            "width": null
          }
        },
        "e4833953a268461a93a0409d62d00b98": {
          "model_module": "@jupyter-widgets/controls",
          "model_name": "DescriptionStyleModel",
          "model_module_version": "1.5.0",
          "state": {
            "_model_module": "@jupyter-widgets/controls",
            "_model_module_version": "1.5.0",
            "_model_name": "DescriptionStyleModel",
            "_view_count": null,
            "_view_module": "@jupyter-widgets/base",
            "_view_module_version": "1.2.0",
            "_view_name": "StyleView",
            "description_width": ""
          }
        },
        "5c39891908ad4c3c908c7456945fcc89": {
          "model_module": "@jupyter-widgets/base",
          "model_name": "LayoutModel",
          "model_module_version": "1.2.0",
          "state": {
            "_model_module": "@jupyter-widgets/base",
            "_model_module_version": "1.2.0",
            "_model_name": "LayoutModel",
            "_view_count": null,
            "_view_module": "@jupyter-widgets/base",
            "_view_module_version": "1.2.0",
            "_view_name": "LayoutView",
            "align_content": null,
            "align_items": null,
            "align_self": null,
            "border": null,
            "bottom": null,
            "display": null,
            "flex": null,
            "flex_flow": null,
            "grid_area": null,
            "grid_auto_columns": null,
            "grid_auto_flow": null,
            "grid_auto_rows": null,
            "grid_column": null,
            "grid_gap": null,
            "grid_row": null,
            "grid_template_areas": null,
            "grid_template_columns": null,
            "grid_template_rows": null,
            "height": null,
            "justify_content": null,
            "justify_items": null,
            "left": null,
            "margin": null,
            "max_height": null,
            "max_width": null,
            "min_height": null,
            "min_width": null,
            "object_fit": null,
            "object_position": null,
            "order": null,
            "overflow": null,
            "overflow_x": null,
            "overflow_y": null,
            "padding": null,
            "right": null,
            "top": null,
            "visibility": null,
            "width": null
          }
        },
        "f6d802c007894330a72de62029f0b40a": {
          "model_module": "@jupyter-widgets/controls",
          "model_name": "ProgressStyleModel",
          "model_module_version": "1.5.0",
          "state": {
            "_model_module": "@jupyter-widgets/controls",
            "_model_module_version": "1.5.0",
            "_model_name": "ProgressStyleModel",
            "_view_count": null,
            "_view_module": "@jupyter-widgets/base",
            "_view_module_version": "1.2.0",
            "_view_name": "StyleView",
            "bar_color": null,
            "description_width": ""
          }
        },
        "6e0b59cf2f1c4425a4a236c2ea22f6ca": {
          "model_module": "@jupyter-widgets/base",
          "model_name": "LayoutModel",
          "model_module_version": "1.2.0",
          "state": {
            "_model_module": "@jupyter-widgets/base",
            "_model_module_version": "1.2.0",
            "_model_name": "LayoutModel",
            "_view_count": null,
            "_view_module": "@jupyter-widgets/base",
            "_view_module_version": "1.2.0",
            "_view_name": "LayoutView",
            "align_content": null,
            "align_items": null,
            "align_self": null,
            "border": null,
            "bottom": null,
            "display": null,
            "flex": null,
            "flex_flow": null,
            "grid_area": null,
            "grid_auto_columns": null,
            "grid_auto_flow": null,
            "grid_auto_rows": null,
            "grid_column": null,
            "grid_gap": null,
            "grid_row": null,
            "grid_template_areas": null,
            "grid_template_columns": null,
            "grid_template_rows": null,
            "height": null,
            "justify_content": null,
            "justify_items": null,
            "left": null,
            "margin": null,
            "max_height": null,
            "max_width": null,
            "min_height": null,
            "min_width": null,
            "object_fit": null,
            "object_position": null,
            "order": null,
            "overflow": null,
            "overflow_x": null,
            "overflow_y": null,
            "padding": null,
            "right": null,
            "top": null,
            "visibility": null,
            "width": null
          }
        },
        "af652bad87c34344a4015c04556a41a4": {
          "model_module": "@jupyter-widgets/controls",
          "model_name": "DescriptionStyleModel",
          "model_module_version": "1.5.0",
          "state": {
            "_model_module": "@jupyter-widgets/controls",
            "_model_module_version": "1.5.0",
            "_model_name": "DescriptionStyleModel",
            "_view_count": null,
            "_view_module": "@jupyter-widgets/base",
            "_view_module_version": "1.2.0",
            "_view_name": "StyleView",
            "description_width": ""
          }
        }
      }
    }
  },
  "cells": [
    {
      "cell_type": "code",
      "execution_count": 16,
      "metadata": {
        "id": "vpRzOKLUMKOu"
      },
      "outputs": [],
      "source": [
        "# Install the Gemini API Python client\n",
        "!pip install -q google-generativeai pandas seaborn\n"
      ]
    },
    {
      "cell_type": "code",
      "source": [
        "import google.generativeai as genai\n",
        "from google.colab import userdata\n",
        "import pandas as pd\n",
        "import seaborn as sns\n",
        "import random\n",
        "import time\n",
        "\n",
        "# Configure the Gemini API key\n",
        "genai.configure(api_key=userdata.get('GOOGLE_API_KEY'))\n",
        "\n",
        "print(\"Libraries imported and API configured.\")\n"
      ],
      "metadata": {
        "colab": {
          "base_uri": "https://localhost:8080/"
        },
        "id": "o00fQ0JVMVKI",
        "outputId": "f68c2732-192a-4ed8-8975-80d68125f58c"
      },
      "execution_count": 17,
      "outputs": [
        {
          "output_type": "stream",
          "name": "stdout",
          "text": [
            "Libraries imported and API configured.\n"
          ]
        }
      ]
    },
    {
      "cell_type": "code",
      "source": [
        "# Define the dataset for training\n",
        "training_data = [\n",
        "    {'text_input': 'Roll number 1', 'output': 'Name: John, Age: 20, Course: Physics'},\n",
        "    {'text_input': 'Roll number 2', 'output': 'Name: Alice, Age: 22, Course: Chemistry'},\n",
        "    {'text_input': 'Roll number 3', 'output': 'Name: Bob, Age: 19, Course: Mathematics'},\n",
        "    {'text_input': 'Roll number 4', 'output': 'Name: Emma, Age: 21, Course: Biology'},\n",
        "    {'text_input': 'Roll number 5', 'output': 'Name: Lily, Age: 23, Course: Computer Science'},\n",
        "]\n",
        "\n",
        "print(\"Training dataset created.\")\n"
      ],
      "metadata": {
        "colab": {
          "base_uri": "https://localhost:8080/"
        },
        "id": "2cueY5D9MmIw",
        "outputId": "76c4e962-f235-4ba9-f837-667b719399fc"
      },
      "execution_count": 18,
      "outputs": [
        {
          "output_type": "stream",
          "name": "stdout",
          "text": [
            "Training dataset created.\n"
          ]
        }
      ]
    },
    {
      "cell_type": "code",
      "source": [
        "# Select the base model\n",
        "base_model = [\n",
        "    m for m in genai.list_models()\n",
        "    if \"createTunedModel\" in m.supported_generation_methods and\n",
        "    \"flash\" in m.name\n",
        "][0]\n",
        "print(\"Base model selected:\", base_model.name)\n"
      ],
      "metadata": {
        "colab": {
          "base_uri": "https://localhost:8080/",
          "height": 34
        },
        "id": "ULJaLJAXMp3Y",
        "outputId": "1cdb6960-a8d4-4d53-c70d-1095edaf86c5"
      },
      "execution_count": 19,
      "outputs": [
        {
          "output_type": "stream",
          "name": "stdout",
          "text": [
            "Base model selected: models/gemini-1.5-flash-001-tuning\n"
          ]
        }
      ]
    },
    {
      "cell_type": "code",
      "source": [
        "# Define a unique name for the tuned model\n",
        "model_name = f'student-model-{random.randint(0, 10000)}'\n",
        "\n",
        "# Start the tuning process\n",
        "operation = genai.create_tuned_model(\n",
        "    source_model=base_model.name,\n",
        "    training_data=training_data,\n",
        "    id=model_name,\n",
        "    epoch_count=100,\n",
        "    batch_size=4,\n",
        "    learning_rate=0.001\n",
        ")\n",
        "\n",
        "print(\"Tuning job started. Model name:\", model_name)\n"
      ],
      "metadata": {
        "colab": {
          "base_uri": "https://localhost:8080/",
          "height": 34
        },
        "id": "5E1tV_PvMuWQ",
        "outputId": "ad7a91b1-a48e-4e57-d028-eb9d2b61a952"
      },
      "execution_count": 20,
      "outputs": [
        {
          "output_type": "stream",
          "name": "stdout",
          "text": [
            "Tuning job started. Model name: student-model-7257\n"
          ]
        }
      ]
    },
    {
      "cell_type": "code",
      "source": [
        "# Check the tuning progress\n",
        "print(\"Checking tuning progress...\")\n",
        "for status in operation.wait_bar():\n",
        "    time.sleep(30)\n",
        "\n",
        "# Fetch the trained model\n",
        "model = operation.result()\n",
        "print(\"Tuning complete. Model is ready!\")\n"
      ],
      "metadata": {
        "colab": {
          "base_uri": "https://localhost:8080/",
          "height": 84,
          "referenced_widgets": [
            "17d84105cd4e4af6af0ff7ecd55b6230",
            "ac1e7b3b69574e9681d9ffe628060866",
            "ba47d314852c42589f458eb4e61c9586",
            "3dc62e44ca934539a091b05c23d2ea88",
            "26923d5cd9894e118fce96f237595d4d",
            "4affff7226524e44ba3d6d1f4a19d6d0",
            "e4833953a268461a93a0409d62d00b98",
            "5c39891908ad4c3c908c7456945fcc89",
            "f6d802c007894330a72de62029f0b40a",
            "6e0b59cf2f1c4425a4a236c2ea22f6ca",
            "af652bad87c34344a4015c04556a41a4"
          ]
        },
        "id": "YDRGsqdbMz0_",
        "outputId": "2cdabab0-777c-475f-89ca-2e6e3daf3bc9"
      },
      "execution_count": 21,
      "outputs": [
        {
          "output_type": "stream",
          "name": "stdout",
          "text": [
            "Checking tuning progress...\n"
          ]
        },
        {
          "output_type": "display_data",
          "data": {
            "text/plain": [
              "  0%|          | 0/125 [00:00<?, ?it/s]"
            ],
            "application/vnd.jupyter.widget-view+json": {
              "version_major": 2,
              "version_minor": 0,
              "model_id": "17d84105cd4e4af6af0ff7ecd55b6230"
            }
          },
          "metadata": {}
        },
        {
          "output_type": "stream",
          "name": "stdout",
          "text": [
            "Tuning complete. Model is ready!\n"
          ]
        }
      ]
    },
    {
      "cell_type": "code",
      "source": [
        "import matplotlib.pyplot as plt\n",
        "\n",
        "# Visualize the loss curve with smaller size\n",
        "plt.figure(figsize=(5, 3))  # Adjust the figure size (width=8, height=4)\n",
        "sns.lineplot(data=snapshots, x='epoch', y='mean_loss')\n",
        "plt.title(\"Loss Curve\")\n",
        "plt.xlabel(\"Epoch\")\n",
        "plt.ylabel(\"Mean Loss\")\n",
        "plt.show()\n",
        "\n",
        "print(\"Loss curve displayed with adjusted size.\")\n"
      ],
      "metadata": {
        "colab": {
          "base_uri": "https://localhost:8080/",
          "height": 350
        },
        "id": "5ryCXCsnWrYF",
        "outputId": "d2291299-69c6-4cea-d0ab-b815d973ecb3"
      },
      "execution_count": 26,
      "outputs": [
        {
          "output_type": "display_data",
          "data": {
            "text/plain": [
              "<Figure size 500x300 with 1 Axes>"
            ],
            "image/png": "[encoded data removed]"
          },
          "metadata": {}
        },
        {
          "output_type": "stream",
          "name": "stdout",
          "text": [
            "Loss curve displayed with adjusted size.\n"
          ]
        }
      ]
    },
    {
      "cell_type": "code",
      "source": [
        "# Load the tuned model\n",
        "student_model = genai.GenerativeModel(model_name=f'tunedModels/{model_name}')\n",
        "\n",
        "# Test the model with various roll numbers\n",
        "inputs = [\n",
        "    'Roll number 1',\n",
        "    'Roll number 2',\n",
        "    'Roll number 3',\n",
        "    'Roll number 4',\n",
        "    'Roll number 5'\n",
        "]\n",
        "\n",
        "# Generate outputs for each input\n",
        "for input_text in inputs:\n",
        "    result = student_model.generate_content(input_text)\n",
        "    print(f\"Input: {input_text} => Output: {result.text}\")\n"
      ],
      "metadata": {
        "colab": {
          "base_uri": "https://localhost:8080/",
          "height": 104
        },
        "id": "yml1M8oJW63T",
        "outputId": "a1a9eebe-5032-45fc-e4f8-034b5bfea979"
      },
      "execution_count": 27,
      "outputs": [
        {
          "output_type": "stream",
          "name": "stdout",
          "text": [
            "Input: Roll number 1 => Output: Name: John, Age: 20, Course: Physics\n",
            "Input: Roll number 2 => Output: Alice, 22, Chemistry\n",
            "Input: Roll number 3 => Output: Bob, Emma, Chemistry\n",
            "Input: Roll number 4 => Output: Name: Emma, Course: Biology\n",
            "Input: Roll number 5 => Output: Lily, Chemistry\n"
          ]
        }
      ]
    },
    {
      "cell_type": "code",
      "source": [
        "# Update the model description\n",
        "genai.update_tuned_model(f'tunedModels/{model_name}', {\"description\": \"Tuned model for student details retrieval\"})\n",
        "model = genai.get_tuned_model(f'tunedModels/{model_name}')\n",
        "print(\"Updated description:\", model.description)\n"
      ],
      "metadata": {
        "colab": {
          "base_uri": "https://localhost:8080/",
          "height": 34
        },
        "id": "_uEeK7ZYXLHU",
        "outputId": "052507b4-5aa0-4e11-ff96-e49e5f41a26b"
      },
      "execution_count": 28,
      "outputs": [
        {
          "output_type": "stream",
          "name": "stdout",
          "text": [
            "Updated description: Tuned model for student details retrieval\n"
          ]
        }
      ]
    }
  ]
}